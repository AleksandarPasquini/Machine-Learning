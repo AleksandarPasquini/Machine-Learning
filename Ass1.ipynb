{
 "cells": [
  {
   "cell_type": "markdown",
   "metadata": {},
   "source": [
    "# The University of Melbourne, School of Computing and Information Systems\n",
    "# COMP30027 Machine Learning, 2019 Semester 1\n",
    "-----\n",
    "## Project 1: Gaining Information about Naive Bayes\n",
    "-----\n",
    "###### Student Name(s):\n",
    "###### Python version:\n",
    "###### Submission deadline: 1pm, Fri 5 Apr 2019"
   ]
  },
  {
   "cell_type": "raw",
   "metadata": {},
   "source": [
    "This iPython notebook is a template which you may use for your Project 1 submission. (You are not required to use it; in particular, there is no need to use iPython if you do not like it.)\n",
    "\n",
    "Marking will be applied on the five functions that are defined in this notebook, and to your responses to the questions at the end of this notebook.\n",
    "\n",
    "You may change the prototypes of these functions, and you may write other functions, according to your requirements. We would appreciate it if the required functions were prominent/easy to find. "
   ]
  },
  {
   "cell_type": "code",
   "execution_count": 32,
   "metadata": {},
   "outputs": [],
   "source": [
    "# This function should open a data file in csv, and transform it into a usable format\n",
    "import csv\n",
    "def preprocess(filename, header):\n",
    "    dataset = []\n",
    "    with open(filename) as csvfile:\n",
    "        reader = csv.DictReader(csvfile, header)\n",
    "        for row in reader:\n",
    "            dataset.append(row)\n",
    "    return dataset\n",
    "\n"
   ]
  },
  {
   "cell_type": "code",
   "execution_count": null,
   "metadata": {},
   "outputs": [],
   "source": [
    "\n"
   ]
  },
  {
   "cell_type": "code",
   "execution_count": 33,
   "metadata": {},
   "outputs": [],
   "source": [
    "def train(dataset, header, classlabels):\n",
    "    model = []\n",
    "    smoothing = []\n",
    "    classes = {}\n",
    "    count = 0\n",
    "    for index in range(len(dataset)):\n",
    "        count += 1;\n",
    "        if dataset[index]['class'] in classes:\n",
    "            classes[dataset[index]['class']] += 1\n",
    "        else:\n",
    "            classes[dataset[index]['class']] = 1\n",
    "    classes['count'] = count\n",
    "    model.append(classes)\n",
    "    \n",
    "    #Laplace smoothing\n",
    "    j = 0\n",
    "    while j < len(header)-1:\n",
    "        attributes = {}\n",
    "        count = 0\n",
    "        for index in range(len(dataset)):\n",
    "            if dataset[index][header[j]] not in attributes:\n",
    "                count += 1\n",
    "                attributes[dataset[index][header[j]]] = 1\n",
    "        j+=1\n",
    "        attributes['count'] = count\n",
    "        smoothing.append(attributes)\n",
    "    i = 0\n",
    "    \n",
    "    while i < len(classlabels):\n",
    "        current_class = classlabels[i]\n",
    "        j = 0\n",
    "        class_attributes = []\n",
    "        while j < len(header)-1:\n",
    "            attributes = smoothing[j].copy()\n",
    "            for index in range(len(dataset)):\n",
    "                if dataset[index]['class'] == current_class:\n",
    "                    attributes['count'] += 1\n",
    "                    attributes[dataset[index].get(header[j])] += 1\n",
    "            class_attributes.append(attributes)\n",
    "            j+=1\n",
    "        model.append(class_attributes)\n",
    "        i+=1\n",
    "    return model"
   ]
  },
  {
   "cell_type": "code",
   "execution_count": 34,
   "metadata": {},
   "outputs": [],
   "source": [
    "# This function should predict the class for an instance or a set of instances, based on a trained model \n",
    "def predict(model, dataset, classlabels, header):\n",
    "    predicted_classes = []\n",
    "    highest_probability = 0\n",
    "    probability = 0\n",
    "    for index in range(len(dataset)):\n",
    "        row = dataset[index]\n",
    "        highest_probability = 0\n",
    "        probability = 0\n",
    "        predicted_label = ''\n",
    "        for label in classlabels:\n",
    "            probability = model[0][label]/model[0]['count']\n",
    "            for attribute in range(len(row)-1):\n",
    "                probability *= model[classlabels.index(label)+1][attribute][row.get(header[attribute])]/model[classlabels.index(label)+1][attribute]['count']\n",
    "            if probability > highest_probability:\n",
    "                highest_probability = probability\n",
    "                predicted_label = label\n",
    "        predicted_classes.append(predicted_label)\n",
    "    return predicted_classes"
   ]
  },
  {
   "cell_type": "code",
   "execution_count": 114,
   "metadata": {},
   "outputs": [],
   "source": [
    "# This function should evaluate a set of predictions, in a supervised context \n",
    "def evaluate(predicted_classes, dataset):\n",
    "    correct = 0\n",
    "    wrong = 0\n",
    "    count = 0\n",
    "    for index in range(len(dataset)):\n",
    "        row = dataset[index]\n",
    "        if predicted_classes[index] == row['class']:\n",
    "            correct += 1\n",
    "        else:\n",
    "            wrong += 1\n",
    "        count += 1\n",
    "    print(\"Accuracy is\", correct/count*100,\"% with\", correct,\"correct predictions and\", wrong, \"wrong predictions\" )\n"
   ]
  },
  {
   "cell_type": "code",
   "execution_count": 172,
   "metadata": {
    "scrolled": true
   },
   "outputs": [
    {
     "name": "stdout",
     "output_type": "stream",
     "text": [
      "1.2057409700121753\n",
      "[[[361, 325, 269, 259, 1214], [73, 109, 116, 90, 388], [1, 1, 24, 47, 73], [1, 1, 27, 40, 69]], [[361, 315, 269, 269, 1214], [73, 106, 116, 93, 388], [1, 1, 24, 47, 73], [1, 14, 27, 27, 69]], [[327, 301, 293, 293, 1214], [82, 100, 103, 103, 388], [16, 19, 19, 19, 73], [11, 16, 21, 21, 69]], [[577, 313, 323, 1213], [1, 199, 187, 387], [1, 37, 34, 72], [1, 31, 36, 68]], [[451, 393, 369, 1213], [106, 136, 145, 387], [22, 25, 25, 72], [1, 26, 41, 68]], [[577, 358, 278, 1213], [1, 181, 205, 387], [1, 40, 31, 72], [1, 1, 66, 68]]]\n",
      "{'buying': 0.09644896916961399, 'maint': 0.07370394692148596, 'doors': 0.004485716626632108, 'persons': 0.2196629633399082, 'lug_boot': 0.030008141247605424, 'safety': 0.262184356554264}\n"
     ]
    }
   ],
   "source": [
    "import math\n",
    "def info_gain(dataset,classlabels,headers):\n",
    "    ig = {} #dict for information gain\n",
    "    HR = 0 #total HR\n",
    "    M = 0  # for mean infor\n",
    "    total_value = 0 #for total count of each class in each attribute\n",
    "    V =[] \n",
    "    W=[] #store all the values in a list of a list\n",
    "    P = [] #store the probobility of each attribute\n",
    "    \n",
    "    #Get HR\n",
    "    for j in range(len(classlabels)):\n",
    "        HR += -((model[0][classlabels[j]]/model[0]['count'])*math.log2(model[0][classlabels[j]]/model[0]['count']))\n",
    "    print(HR)\n",
    "    \n",
    "    #we want to get 6 ig so use for loop to process 6 times\n",
    "    for k in range(len(header)-1):\n",
    "        total_value = 0\n",
    "        #put all the values into a list\n",
    "        for i in range(len(model)-1):\n",
    "            values = list(model[i+1][k].values())\n",
    "            V.append(values)\n",
    "        W.append(V)\n",
    "        V=[]\n",
    "    print(W)\n",
    "    \n",
    "    #get entrypy for each small attribute for all the large attributes and put them into a list\n",
    "    #get the probobility of each class inside the large attribute and put them into a list\n",
    "    for i in range(len(W)):\n",
    "        value = []\n",
    "        H = []\n",
    "        P = []\n",
    "        for j in range(len(W[i])):\n",
    "            last_count = 0\n",
    "            k = 0\n",
    "            while k < len(W[i]):\n",
    "                print(W[i][k][j])\n",
    "                total_value += W[i][k][j]\n",
    "                last_count += W[i][k][-1]\n",
    "                k+=1\n",
    "            print('total value',total_value)\n",
    "            value.append(total_value)\n",
    "            H_ind = 0\n",
    "            if (j<len(W[i][j])-1):  \n",
    "                for k in range(len(W[i])):\n",
    "                    if ((W[i][k][j]-1)>1):\n",
    "                        H_ind +=  -(((W[i][k][j]-1)/(total_value-4)))*(math.log2((W[i][k][j]-1)/(total_value-4)))\n",
    "                H.append(H_ind)\n",
    "                P.append(total_value/last_count)\n",
    "            total_value = 0\n",
    "        M = 0\n",
    "        # get mean then get information gain for each attribute toward the classifer \n",
    "        for j in range(len(P)):\n",
    "            M+= P[j]*H[j]\n",
    "        ig[header[i]] = HR - M\n",
    "    print(ig)\n",
    "    return \n",
    "info_gain(dataset,classlabels,header)"
   ]
  },
  {
   "cell_type": "code",
   "execution_count": null,
   "metadata": {},
   "outputs": [],
   "source": []
  },
  {
   "cell_type": "markdown",
   "metadata": {},
   "source": [
    "# "
   ]
  },
  {
   "cell_type": "code",
   "execution_count": 116,
   "metadata": {},
   "outputs": [
    {
     "name": "stdout",
     "output_type": "stream",
     "text": [
      "('unacc', 'acc', 'good', 'vgood')\n",
      "[{'unacc': 1210, 'acc': 384, 'vgood': 65, 'good': 69, 'count': 1728}, [{'vhigh': 361, 'high': 325, 'med': 269, 'low': 259, 'count': 1214}, {'vhigh': 361, 'high': 315, 'med': 269, 'low': 269, 'count': 1214}, {'2': 327, '3': 301, '4': 293, '5more': 293, 'count': 1214}, {'2': 577, '4': 313, 'more': 323, 'count': 1213}, {'small': 451, 'med': 393, 'big': 369, 'count': 1213}, {'low': 577, 'med': 358, 'high': 278, 'count': 1213}], [{'vhigh': 73, 'high': 109, 'med': 116, 'low': 90, 'count': 388}, {'vhigh': 73, 'high': 106, 'med': 116, 'low': 93, 'count': 388}, {'2': 82, '3': 100, '4': 103, '5more': 103, 'count': 388}, {'2': 1, '4': 199, 'more': 187, 'count': 387}, {'small': 106, 'med': 136, 'big': 145, 'count': 387}, {'low': 1, 'med': 181, 'high': 205, 'count': 387}], [{'vhigh': 1, 'high': 1, 'med': 24, 'low': 47, 'count': 73}, {'vhigh': 1, 'high': 1, 'med': 24, 'low': 47, 'count': 73}, {'2': 16, '3': 19, '4': 19, '5more': 19, 'count': 73}, {'2': 1, '4': 37, 'more': 34, 'count': 72}, {'small': 22, 'med': 25, 'big': 25, 'count': 72}, {'low': 1, 'med': 40, 'high': 31, 'count': 72}], [{'vhigh': 1, 'high': 1, 'med': 27, 'low': 40, 'count': 69}, {'vhigh': 1, 'high': 14, 'med': 27, 'low': 27, 'count': 69}, {'2': 11, '3': 16, '4': 21, '5more': 21, 'count': 69}, {'2': 1, '4': 31, 'more': 36, 'count': 68}, {'small': 1, 'med': 26, 'big': 41, 'count': 68}, {'low': 1, 'med': 1, 'high': 66, 'count': 68}]]\n",
      "Accuracy is 87.15277777777779 % with 1506 correct predictions and 222 wrong predictions\n"
     ]
    }
   ],
   "source": [
    "header = 'buying','maint','doors','persons','lug_boot','safety','class'\n",
    "dataset = preprocess('car.csv',header)\n",
    "classlabels = 'unacc', 'acc', 'good', 'vgood'\n",
    "print(classlabels)\n",
    "model = train(dataset, header, classlabels)\n",
    "print(model)\n",
    "predicted_classes = predict(model, dataset, classlabels, header)\n",
    "evaluate(predicted_classes, dataset)"
   ]
  },
  {
   "cell_type": "markdown",
   "metadata": {},
   "source": [
    "Questions (you may respond in a cell or cells below):\n",
    "\n",
    "1. The Naive Bayes classifiers can be seen to vary, in terms of their effectiveness on the given datasets (e.g. in terms of Accuracy). Consider the Information Gain of each attribute, relative to the class distribution — does this help to explain the classifiers’ behaviour? Identify any results that are particularly surprising, and explain why they occur.\n",
    "2. The Information Gain can be seen as a kind of correlation coefficient between a pair of attributes: when the gain is low, the attribute values are uncorrelated; when the gain is high, the attribute values are correlated. In supervised ML, we typically calculate the Infomation Gain between a single attribute and the class, but it can be calculated for any pair of attributes. Using the pair-wise IG as a proxy for attribute interdependence, in which cases are our NB assumptions violated? Describe any evidence (or indeed, lack of evidence) that this is has some effect on the effectiveness of the NB classifier.\n",
    "3. Since we have gone to all of the effort of calculating Infomation Gain, we might as well use that as a criterion for building a “Decision Stump” (1-R classifier). How does the effectiveness of this classifier compare to Naive Bayes? Identify one or more cases where the effectiveness is notably different, and explain why.\n",
    "4. Evaluating the model on the same data that we use to train the model is considered to be a major mistake in Machine Learning. Implement a hold–out or cross–validation evaluation strategy. How does your estimate of effectiveness change, compared to testing on the training data? Explain why. (The result might surprise you!)\n",
    "5. Implement one of the advanced smoothing regimes (add-k, Good-Turing). Does changing the smoothing regime (or indeed, not smoothing at all) affect the effectiveness of the Naive Bayes classifier? Explain why, or why not.\n",
    "6. Naive Bayes is said to elegantly handle missing attribute values. For the datasets with missing values, is there any evidence that the performance is different on the instances with missing values, compared to the instances where all of the values are present? Does it matter which, or how many values are missing? Would a imputation strategy have any effect on this?\n",
    "\n",
    "Don't forget that groups of 1 student should respond to question (1), and one other question of your choosing. Groups of 2 students should respond to question (1) and question (2), and two other questions of your choosing. Your responses should be about 150-250 words each."
   ]
  },
  {
   "cell_type": "markdown",
   "metadata": {
    "collapsed": true
   },
   "source": [
    "1.Yes, when the information gain of each attribute is higher than others, then it means that it can be a good choice.\n"
   ]
  },
  {
   "cell_type": "markdown",
   "metadata": {},
   "source": [
    "MISS VALUE\n",
    "1.can take question mark as a value which the attribute will have 3 attributes which are T,F,? just treat it as a single value\n",
    "2.still have question marks in the set but - the question marks at the end. 1/3-1\n",
    "3.it is not nessary to \n",
    "Question 2: \n",
    "evidence of independance  calculate the attribute one and two's information gain. so not calculating the class but the infomation gain between two attributes\n",
    "\n",
    "for all the attributes get the information gain and put them in a list\n",
    "information gain:\n",
    "just culculate 4 of them.\n",
    "\n",
    "\n",
    "4,5(add_k)\n"
   ]
  }
 ],
 "metadata": {
  "kernelspec": {
   "display_name": "Python 3",
   "language": "python",
   "name": "python3"
  },
  "language_info": {
   "codemirror_mode": {
    "name": "ipython",
    "version": 3
   },
   "file_extension": ".py",
   "mimetype": "text/x-python",
   "name": "python",
   "nbconvert_exporter": "python",
   "pygments_lexer": "ipython3",
   "version": "3.7.1"
  }
 },
 "nbformat": 4,
 "nbformat_minor": 2
}
