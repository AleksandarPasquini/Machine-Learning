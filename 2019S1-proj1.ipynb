{
 "cells": [
  {
   "cell_type": "markdown",
   "metadata": {},
   "source": [
    "# The University of Melbourne, School of Computing and Information Systems\n",
    "# COMP30027 Machine Learning, 2019 Semester 1\n",
    "-----\n",
    "## Project 1: Gaining Information about Naive Bayes\n",
    "-----\n",
    "###### Student Name(s):\n",
    "###### Python version:\n",
    "###### Submission deadline: 1pm, Fri 5 Apr 2019"
   ]
  },
  {
   "cell_type": "markdown",
   "metadata": {},
   "source": [
    "This iPython notebook is a template which you may use for your Project 1 submission. (You are not required to use it; in particular, there is no need to use iPython if you do not like it.)\n",
    "\n",
    "Marking will be applied on the five functions that are defined in this notebook, and to your responses to the questions at the end of this notebook.\n",
    "\n",
    "You may change the prototypes of these functions, and you may write other functions, according to your requirements. We would appreciate it if the required functions were prominent/easy to find. "
   ]
  },
  {
   "cell_type": "code",
   "execution_count": 82,
   "metadata": {},
   "outputs": [],
   "source": [
    "# This function should open a data file in csv, and transform it into a usable format \n",
    "def preprocess(filename, header):\n",
    "    dataset = []\n",
    "    with open(filename) as csvfile:\n",
    "        reader = csv.DictReader(csvfile, header)\n",
    "        for row in reader:\n",
    "            dataset.append(row)\n",
    "    return dataset"
   ]
  },
  {
   "cell_type": "code",
   "execution_count": 157,
   "metadata": {},
   "outputs": [],
   "source": [
    "# This function should build a supervised NB model\n",
    "def train(dataset, header, classlabels):\n",
    "    model = []\n",
    "    smoothing = []\n",
    "    classes = {}\n",
    "    count = 0\n",
    "    for index in range(len(dataset)):\n",
    "        count += 1;\n",
    "        if dataset[index]['class'] in classes:\n",
    "            classes[dataset[index]['class']] += 1\n",
    "        else:\n",
    "            classes[dataset[index]['class']] = 1\n",
    "    classes['count'] = count\n",
    "    model.append(classes)\n",
    "    \n",
    "    #Laplace smoothing\n",
    "    j = 0\n",
    "    while j < len(header)-1:\n",
    "        attributes = {}\n",
    "        count = 0\n",
    "        for index in range(len(dataset)):\n",
    "            if dataset[index][header[j]] not in attributes:\n",
    "                count += 1\n",
    "                attributes[dataset[index][header[j]]] = 1\n",
    "        j+=1\n",
    "        attributes['count'] = count\n",
    "        smoothing.append(attributes)\n",
    "    i = 0\n",
    "    \n",
    "    while i < len(classlabels):\n",
    "        current_class = classlabels[i]\n",
    "        j = 0\n",
    "        class_attributes = []\n",
    "        while j < len(header)-1:\n",
    "            attributes = smoothing[j].copy()\n",
    "            for index in range(len(dataset)):\n",
    "                if dataset[index]['class'] == current_class:\n",
    "                    attributes['count'] += 1\n",
    "                    attributes[dataset[index].get(header[j])] += 1\n",
    "            class_attributes.append(attributes)\n",
    "            j+=1\n",
    "        model.append(class_attributes)\n",
    "        i+=1\n",
    "    return model"
   ]
  },
  {
   "cell_type": "code",
   "execution_count": 184,
   "metadata": {},
   "outputs": [],
   "source": [
    "# This function should predict the class for an instance or a set of instances, based on a trained model \n",
    "def predict(model, dataset, classlabels, header):\n",
    "    predicted_classes = []\n",
    "    highest_probability = 0\n",
    "    probability = 0\n",
    "    for index in range(len(dataset)):\n",
    "        row = dataset[index]\n",
    "        highest_probability = 0\n",
    "        probability = 0\n",
    "        predicted_label = ''\n",
    "        for label in classlabels:\n",
    "            probability = model[0][label]/model[0]['count']\n",
    "            for attribute in range(len(row)-1):\n",
    "                probability *= model[classlabels.index(label)+1][attribute][row.get(header[attribute])]/model[classlabels.index(label)+1][attribute]['count']\n",
    "            if probability > highest_probability:\n",
    "                highest_probability = probability\n",
    "                predicted_label = label\n",
    "        predicted_classes.append(predicted_label)\n",
    "    return predicted_classes"
   ]
  },
  {
   "cell_type": "code",
   "execution_count": 200,
   "metadata": {},
   "outputs": [],
   "source": [
    "# This function should evaluate a set of predictions, in a supervised context \n",
    "def evaluate(predicted_classes, dataset):\n",
    "    correct = 0\n",
    "    wrong = 0\n",
    "    count = 0\n",
    "    for index in range(len(dataset)):\n",
    "        row = dataset[index]\n",
    "        if predicted_classes[index] == row['class']:\n",
    "            correct += 1\n",
    "        else:\n",
    "            wrong += 1\n",
    "        count += 1\n",
    "    print(\"Accuracy is\", correct/count*100,\"% with\", correct,\"correct predictions and\", wrong, \"wrong predictions\" )"
   ]
  },
  {
   "cell_type": "code",
   "execution_count": null,
   "metadata": {
    "collapsed": true
   },
   "outputs": [],
   "source": [
    "# This function should calculate the Information Gain of an attribute or a set of attribute, with respect to the class\n",
    "def info_gain(dataset, attributes):\n",
    "    for \n",
    "    return"
   ]
  },
  {
   "cell_type": "code",
   "execution_count": 202,
   "metadata": {},
   "outputs": [
    {
     "name": "stdout",
     "output_type": "stream",
     "text": [
      "1728\n",
      "unacc\n",
      "{'vhigh': 361, 'high': 325, 'med': 269, 'low': 259, 'count': 1214}\n",
      "Accuracy is 87.15277777777779 % with 1506 correct predictions and 222 wrong predictions\n"
     ]
    },
    {
     "ename": "NameError",
     "evalue": "name 'info_gain' is not defined",
     "output_type": "error",
     "traceback": [
      "\u001b[1;31m---------------------------------------------------------------------------\u001b[0m",
      "\u001b[1;31mNameError\u001b[0m                                 Traceback (most recent call last)",
      "\u001b[1;32m<ipython-input-202-0e4db29d82f6>\u001b[0m in \u001b[0;36m<module>\u001b[1;34m()\u001b[0m\n\u001b[0;32m     13\u001b[0m \u001b[0mpredicted_classes\u001b[0m \u001b[1;33m=\u001b[0m \u001b[0mpredict\u001b[0m\u001b[1;33m(\u001b[0m\u001b[0mmodel\u001b[0m\u001b[1;33m,\u001b[0m\u001b[0mdataset\u001b[0m\u001b[1;33m,\u001b[0m\u001b[0mclasslabels\u001b[0m\u001b[1;33m,\u001b[0m \u001b[0mheader\u001b[0m\u001b[1;33m)\u001b[0m\u001b[1;33m\u001b[0m\u001b[0m\n\u001b[0;32m     14\u001b[0m \u001b[0mevaluate\u001b[0m\u001b[1;33m(\u001b[0m\u001b[0mpredicted_classes\u001b[0m\u001b[1;33m,\u001b[0m \u001b[0mdataset\u001b[0m\u001b[1;33m)\u001b[0m\u001b[1;33m\u001b[0m\u001b[0m\n\u001b[1;32m---> 15\u001b[1;33m \u001b[0minfo_gain\u001b[0m\u001b[1;33m(\u001b[0m\u001b[0mdataset\u001b[0m\u001b[1;33m,\u001b[0m \u001b[0mattribute1\u001b[0m\u001b[1;33m,\u001b[0m \u001b[0mattribute2\u001b[0m\u001b[1;33m)\u001b[0m\u001b[1;33m\u001b[0m\u001b[0m\n\u001b[0m",
      "\u001b[1;31mNameError\u001b[0m: name 'info_gain' is not defined"
     ]
    }
   ],
   "source": [
    "import csv\n",
    "\n",
    "#This changes depending on the file \n",
    "filename = 'car.csv'\n",
    "header = 'buying','maint','doors','persons','lug_boot','safety','class'\n",
    "classlabels = 'unacc', 'acc', 'good', 'vgood'\n",
    "\n",
    "\n",
    "\n",
    "dataset = preprocess(filename, header)\n",
    "model = train(dataset, header, classlabels)\n",
    "print(model[1][0])\n",
    "predicted_classes = predict(model,dataset,classlabels, header)\n",
    "evaluate(predicted_classes, dataset)\n",
    "info_gain(dataset, attributes)"
   ]
  },
  {
   "cell_type": "markdown",
   "metadata": {},
   "source": [
    "Questions (you may respond in a cell or cells below):\n",
    "\n",
    "1. The Naive Bayes classifiers can be seen to vary, in terms of their effectiveness on the given datasets (e.g. in terms of Accuracy). Consider the Information Gain of each attribute, relative to the class distribution — does this help to explain the classifiers’ behaviour? Identify any results that are particularly surprising, and explain why they occur.\n",
    "2. The Information Gain can be seen as a kind of correlation coefficient between a pair of attributes: when the gain is low, the attribute values are uncorrelated; when the gain is high, the attribute values are correlated. In supervised ML, we typically calculate the Infomation Gain between a single attribute and the class, but it can be calculated for any pair of attributes. Using the pair-wise IG as a proxy for attribute interdependence, in which cases are our NB assumptions violated? Describe any evidence (or indeed, lack of evidence) that this is has some effect on the effectiveness of the NB classifier.\n",
    "3. Since we have gone to all of the effort of calculating Infomation Gain, we might as well use that as a criterion for building a “Decision Stump” (1-R classifier). How does the effectiveness of this classifier compare to Naive Bayes? Identify one or more cases where the effectiveness is notably different, and explain why.\n",
    "4. Evaluating the model on the same data that we use to train the model is considered to be a major mistake in Machine Learning. Implement a hold–out or cross–validation evaluation strategy. How does your estimate of effectiveness change, compared to testing on the training data? Explain why. (The result might surprise you!)\n",
    "5. Implement one of the advanced smoothing regimes (add-k, Good-Turing). Does changing the smoothing regime (or indeed, not smoothing at all) affect the effectiveness of the Naive Bayes classifier? Explain why, or why not.\n",
    "6. Naive Bayes is said to elegantly handle missing attribute values. For the datasets with missing values, is there any evidence that the performance is different on the instances with missing values, compared to the instances where all of the values are present? Does it matter which, or how many values are missing? Would a imputation strategy have any effect on this?\n",
    "\n",
    "Don't forget that groups of 1 student should respond to question (1), and one other question of your choosing. Groups of 2 students should respond to question (1) and question (2), and two other questions of your choosing. Your responses should be about 150-250 words each."
   ]
  },
  {
   "cell_type": "code",
   "execution_count": null,
   "metadata": {
    "collapsed": true
   },
   "outputs": [],
   "source": []
  }
 ],
 "metadata": {
  "kernelspec": {
   "display_name": "Python 3",
   "language": "python",
   "name": "python3"
  },
  "language_info": {
   "codemirror_mode": {
    "name": "ipython",
    "version": 3
   },
   "file_extension": ".py",
   "mimetype": "text/x-python",
   "name": "python",
   "nbconvert_exporter": "python",
   "pygments_lexer": "ipython3",
   "version": "3.6.4"
  }
 },
 "nbformat": 4,
 "nbformat_minor": 2
}
